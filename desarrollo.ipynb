{
 "cells": [
  {
   "cell_type": "code",
   "execution_count": 2,
   "metadata": {},
   "outputs": [],
   "source": [
    "# -*- coding: utf-8 -*-\n",
    "\"\"\"\n",
    "Created on Wed Aug 29 16:13:06 2018\n",
    "\n",
    "@author: Agus\n",
    "\"\"\"\n",
    "\n",
    "# -*- coding: utf-8 -*-\n",
    "\"\"\"\n",
    "Created on Mon Aug 27 17:23:38 2018\n",
    "\n",
    "@author: Agus\n",
    "\"\"\"\n",
    "import numpy as np\n",
    "import sounddevice as sd\n",
    "import matplotlib.pyplot as plt\n",
    "\n",
    "\n",
    "class AudioControl(object):\n",
    "    \n",
    "    def __init__(self):\n",
    "        self.fs=48000\n",
    "        self.ampMax=1\n",
    "    \n",
    "    def crearOnda(self, frec,amp=None,long=10):\n",
    "        if amp is None:\n",
    "            amp=self.ampMax\n",
    "        t=np.arange(long*self.fs)\n",
    "        return amp*np.sin(2*np.pi*frec*t/self.fs)\n",
    "    \"\"\"\"Revisar valores de amplitud (máximos y eso). Suponemos que va entre 1 y menos 1\n",
    "    hay algún tema con escribir las variables adentro y afuera de la clase\"\"\"\n",
    "    \n",
    "    \n",
    "    def test(self):\n",
    "        sd.play(np.stack((self.crearOnda(440),self.crearOnda(440,amp=0)), axis=-1))\n",
    "        sd.wait()\n",
    "        sd.play(np.stack((self.crearOnda(440,amp=0),self.crearOnda(440)), axis=-1))\n",
    "        sd.wait()\n",
    "        print('Tendría que haber escuchado 1 segundo de audio en cada canal')\n",
    "        \n",
    "    def crearRect (self,frec,amp=None,long=10,offset=0):\n",
    "        if amp is None:\n",
    "            amp=self.ampMax\n",
    "        t=np.arange(long*self.fs)\n",
    "        T_samples=t*frec/self.fs\n",
    "        T_samples=T_samples-np.trunc(T_samples)\n",
    "        return np.where(T_samples<0.5,1,0)*amp+offset\n",
    "        \n",
    "    def crearRamp(self,Vin,Vend,long=1):\n",
    "        t=np.arange(long*self.fs)\n",
    "        return (Vend-Vin)*t/(long*self.fs)+Vin\n",
    "        \n",
    "    def crearCons(self,value,long=10):\n",
    "        if value < self.ampMax:\n",
    "            return value*np.ones(long*self.fs)\n",
    "        else: \n",
    "            return print(\"El valor pedido supera el máximo permitido.\")\n",
    "\n",
    "    def serrucho(self,Vin,Vend,long=1/440,n=440):\n",
    "        # así como está, serrucho de 1 seg, a 440 Hz.\n",
    "        t=np.arange(long*self.fs)\n",
    "        ret=(Vend-Vin)*t/(long*self.fs)+Vin\n",
    "        aux=(Vend-Vin)*t/(long*self.fs)+Vin\n",
    "        for i in range(n):\n",
    "            ret=np.concatenate([ret,aux])\n",
    "        return ret\n",
    "\n",
    "            \n",
    "    def playrec_onda(self, frec,amp=None,long=10):\n",
    "        \"pone una función onda y la graba al mismo tiempo. La salida de esta función es: un gráfico que muestra la señal que mandó y la que midió y el array correspondiente a la medición. \"\n",
    "        myrec=sd.playrec(self.crearOnda(frec,amp=amp,long=long),self.fs,channels=2)\n",
    "        sd.wait()\n",
    "        plt.plot(myrec)\n",
    "        return myrec\n",
    "                    \n",
    "    def playrec_serr(self,Vin,Vend,long=1/440,n=440):\n",
    "        \"pone una función serrucho y la graba al mismo tiempo. La salida de esta función es: un gráfico que muestra la señal que mandó y la que midió y el array correspondiente a la medición. \"\n",
    "        a=self.serrucho(Vin,Vend,long=long,n=n)\n",
    "        myrec=sd.playrec(a,self.fs,channels=2)\n",
    "        sd.wait()\n",
    "        plt.plot(myrec)#,plt.plot(self.serrucho(Vin,Vend,long=long,n=n))\n",
    "        return myrec        \n",
    "\n",
    "    def barrido_frecuencia(self,frec_min,frec_max,pasos=15,amp=None,long=10):\n",
    "        \"Genera un vector de frecuencias entre la mínima y la máxima, con los pasos especificados. Manda funcines senoidales de esa frencuencia y graba la respuesta. Devuelve (por ahora) el vector de frecuencias y un gráfico que muestra la amplitud máxima registrada (puede mejorarse como la obtiene) en función de la frecuencia.\"\n",
    "        frec=np.linspace(frec_min,frec_max,num=pasos)\n",
    "        maximos=np.zeros(pasos)\n",
    "        for i in range(pasos):\n",
    "            rec=sd.playrec(self.crearOnda(frec[i],amp=amp,long=long),self.fs,channels=2)\n",
    "            sd.wait()\n",
    "            maximos[i]=np.max(rec)\n",
    "        plt.plot(frec,maximos,'.')\n",
    "        return frec \n",
    "            \n",
    " "
   ]
  },
  {
   "cell_type": "code",
<<<<<<< HEAD
   "execution_count": 3,
   "metadata": {},
   "outputs": [
    {
     "ename": "PortAudioError",
     "evalue": "Error querying device -1",
     "output_type": "error",
     "traceback": [
      "\u001b[0;31m---------------------------------------------------------------------------\u001b[0m",
      "\u001b[0;31mPortAudioError\u001b[0m                            Traceback (most recent call last)",
      "\u001b[0;32m<ipython-input-3-e89a61372a24>\u001b[0m in \u001b[0;36m<module>\u001b[0;34m()\u001b[0m\n\u001b[1;32m      1\u001b[0m \u001b[0mmyaudio\u001b[0m\u001b[0;34m=\u001b[0m\u001b[0mAudioControl\u001b[0m\u001b[0;34m(\u001b[0m\u001b[0;34m)\u001b[0m\u001b[0;34m\u001b[0m\u001b[0m\n\u001b[0;32m----> 2\u001b[0;31m \u001b[0mmyaudio\u001b[0m\u001b[0;34m.\u001b[0m\u001b[0mtest\u001b[0m\u001b[0;34m(\u001b[0m\u001b[0;34m)\u001b[0m\u001b[0;34m\u001b[0m\u001b[0m\n\u001b[0m",
      "\u001b[0;32m<ipython-input-2-378dcd07b4ec>\u001b[0m in \u001b[0;36mtest\u001b[0;34m(self)\u001b[0m\n\u001b[1;32m     26\u001b[0m \u001b[0;34m\u001b[0m\u001b[0m\n\u001b[1;32m     27\u001b[0m     \u001b[0;32mdef\u001b[0m \u001b[0mtest\u001b[0m\u001b[0;34m(\u001b[0m\u001b[0mself\u001b[0m\u001b[0;34m)\u001b[0m\u001b[0;34m:\u001b[0m\u001b[0;34m\u001b[0m\u001b[0m\n\u001b[0;32m---> 28\u001b[0;31m         \u001b[0msd\u001b[0m\u001b[0;34m.\u001b[0m\u001b[0mplay\u001b[0m\u001b[0;34m(\u001b[0m\u001b[0mnp\u001b[0m\u001b[0;34m.\u001b[0m\u001b[0mstack\u001b[0m\u001b[0;34m(\u001b[0m\u001b[0;34m(\u001b[0m\u001b[0mself\u001b[0m\u001b[0;34m.\u001b[0m\u001b[0mcrearOnda\u001b[0m\u001b[0;34m(\u001b[0m\u001b[0;36m440\u001b[0m\u001b[0;34m)\u001b[0m\u001b[0;34m,\u001b[0m\u001b[0mself\u001b[0m\u001b[0;34m.\u001b[0m\u001b[0mcrearOnda\u001b[0m\u001b[0;34m(\u001b[0m\u001b[0;36m440\u001b[0m\u001b[0;34m,\u001b[0m\u001b[0mamp\u001b[0m\u001b[0;34m=\u001b[0m\u001b[0;36m0\u001b[0m\u001b[0;34m)\u001b[0m\u001b[0;34m)\u001b[0m\u001b[0;34m,\u001b[0m \u001b[0maxis\u001b[0m\u001b[0;34m=\u001b[0m\u001b[0;34m-\u001b[0m\u001b[0;36m1\u001b[0m\u001b[0;34m)\u001b[0m\u001b[0;34m)\u001b[0m\u001b[0;34m\u001b[0m\u001b[0m\n\u001b[0m\u001b[1;32m     29\u001b[0m         \u001b[0msd\u001b[0m\u001b[0;34m.\u001b[0m\u001b[0mwait\u001b[0m\u001b[0;34m(\u001b[0m\u001b[0;34m)\u001b[0m\u001b[0;34m\u001b[0m\u001b[0m\n\u001b[1;32m     30\u001b[0m         \u001b[0msd\u001b[0m\u001b[0;34m.\u001b[0m\u001b[0mplay\u001b[0m\u001b[0;34m(\u001b[0m\u001b[0mnp\u001b[0m\u001b[0;34m.\u001b[0m\u001b[0mstack\u001b[0m\u001b[0;34m(\u001b[0m\u001b[0;34m(\u001b[0m\u001b[0mself\u001b[0m\u001b[0;34m.\u001b[0m\u001b[0mcrearOnda\u001b[0m\u001b[0;34m(\u001b[0m\u001b[0;36m440\u001b[0m\u001b[0;34m,\u001b[0m\u001b[0mamp\u001b[0m\u001b[0;34m=\u001b[0m\u001b[0;36m0\u001b[0m\u001b[0;34m)\u001b[0m\u001b[0;34m,\u001b[0m\u001b[0mself\u001b[0m\u001b[0;34m.\u001b[0m\u001b[0mcrearOnda\u001b[0m\u001b[0;34m(\u001b[0m\u001b[0;36m440\u001b[0m\u001b[0;34m)\u001b[0m\u001b[0;34m)\u001b[0m\u001b[0;34m,\u001b[0m \u001b[0maxis\u001b[0m\u001b[0;34m=\u001b[0m\u001b[0;34m-\u001b[0m\u001b[0;36m1\u001b[0m\u001b[0;34m)\u001b[0m\u001b[0;34m)\u001b[0m\u001b[0;34m\u001b[0m\u001b[0m\n",
      "\u001b[0;32m~/miniconda3/envs/Instru/lib/python3.5/site-packages/sounddevice.py\u001b[0m in \u001b[0;36mplay\u001b[0;34m(data, samplerate, mapping, blocking, loop, **kwargs)\u001b[0m\n\u001b[1;32m    151\u001b[0m                      \u001b[0mctx\u001b[0m\u001b[0;34m.\u001b[0m\u001b[0moutput_dtype\u001b[0m\u001b[0;34m,\u001b[0m \u001b[0mcallback\u001b[0m\u001b[0;34m,\u001b[0m \u001b[0mblocking\u001b[0m\u001b[0;34m,\u001b[0m\u001b[0;34m\u001b[0m\u001b[0m\n\u001b[1;32m    152\u001b[0m                      \u001b[0mprime_output_buffers_using_stream_callback\u001b[0m\u001b[0;34m=\u001b[0m\u001b[0;32mFalse\u001b[0m\u001b[0;34m,\u001b[0m\u001b[0;34m\u001b[0m\u001b[0m\n\u001b[0;32m--> 153\u001b[0;31m                      **kwargs)\n\u001b[0m\u001b[1;32m    154\u001b[0m \u001b[0;34m\u001b[0m\u001b[0m\n\u001b[1;32m    155\u001b[0m \u001b[0;34m\u001b[0m\u001b[0m\n",
      "\u001b[0;32m~/miniconda3/envs/Instru/lib/python3.5/site-packages/sounddevice.py\u001b[0m in \u001b[0;36mstart_stream\u001b[0;34m(self, StreamClass, samplerate, channels, dtype, callback, blocking, **kwargs)\u001b[0m\n\u001b[1;32m   2414\u001b[0m                                   \u001b[0mcallback\u001b[0m\u001b[0;34m=\u001b[0m\u001b[0mcallback\u001b[0m\u001b[0;34m,\u001b[0m\u001b[0;34m\u001b[0m\u001b[0m\n\u001b[1;32m   2415\u001b[0m                                   \u001b[0mfinished_callback\u001b[0m\u001b[0;34m=\u001b[0m\u001b[0mself\u001b[0m\u001b[0;34m.\u001b[0m\u001b[0mfinished_callback\u001b[0m\u001b[0;34m,\u001b[0m\u001b[0;34m\u001b[0m\u001b[0m\n\u001b[0;32m-> 2416\u001b[0;31m                                   **kwargs)\n\u001b[0m\u001b[1;32m   2417\u001b[0m         \u001b[0mself\u001b[0m\u001b[0;34m.\u001b[0m\u001b[0mstream\u001b[0m\u001b[0;34m.\u001b[0m\u001b[0mstart\u001b[0m\u001b[0;34m(\u001b[0m\u001b[0;34m)\u001b[0m\u001b[0;34m\u001b[0m\u001b[0m\n\u001b[1;32m   2418\u001b[0m         \u001b[0;32mglobal\u001b[0m \u001b[0m_last_callback\u001b[0m\u001b[0;34m\u001b[0m\u001b[0m\n",
      "\u001b[0;32m~/miniconda3/envs/Instru/lib/python3.5/site-packages/sounddevice.py\u001b[0m in \u001b[0;36m__init__\u001b[0;34m(self, samplerate, blocksize, device, channels, dtype, latency, extra_settings, callback, finished_callback, clip_off, dither_off, never_drop_input, prime_output_buffers_using_stream_callback)\u001b[0m\n\u001b[1;32m   1371\u001b[0m         \"\"\"\n\u001b[1;32m   1372\u001b[0m         _StreamBase.__init__(self, kind='output', wrap_callback='array',\n\u001b[0;32m-> 1373\u001b[0;31m                              **_remove_self(locals()))\n\u001b[0m\u001b[1;32m   1374\u001b[0m \u001b[0;34m\u001b[0m\u001b[0m\n\u001b[1;32m   1375\u001b[0m     \u001b[0;32mdef\u001b[0m \u001b[0mwrite\u001b[0m\u001b[0;34m(\u001b[0m\u001b[0mself\u001b[0m\u001b[0;34m,\u001b[0m \u001b[0mdata\u001b[0m\u001b[0;34m)\u001b[0m\u001b[0;34m:\u001b[0m\u001b[0;34m\u001b[0m\u001b[0m\n",
      "\u001b[0;32m~/miniconda3/envs/Instru/lib/python3.5/site-packages/sounddevice.py\u001b[0m in \u001b[0;36m__init__\u001b[0;34m(self, kind, samplerate, blocksize, device, channels, dtype, latency, extra_settings, callback, finished_callback, clip_off, dither_off, never_drop_input, prime_output_buffers_using_stream_callback, userdata, wrap_callback)\u001b[0m\n\u001b[1;32m    694\u001b[0m             \u001b[0mparameters\u001b[0m\u001b[0;34m,\u001b[0m \u001b[0mself\u001b[0m\u001b[0;34m.\u001b[0m\u001b[0m_dtype\u001b[0m\u001b[0;34m,\u001b[0m \u001b[0mself\u001b[0m\u001b[0;34m.\u001b[0m\u001b[0m_samplesize\u001b[0m\u001b[0;34m,\u001b[0m \u001b[0msamplerate\u001b[0m \u001b[0;34m=\u001b[0m\u001b[0;31m \u001b[0m\u001b[0;31m\\\u001b[0m\u001b[0;34m\u001b[0m\u001b[0m\n\u001b[1;32m    695\u001b[0m                 _get_stream_parameters(kind, device, channels, dtype, latency,\n\u001b[0;32m--> 696\u001b[0;31m                                        extra_settings, samplerate)\n\u001b[0m\u001b[1;32m    697\u001b[0m             \u001b[0mself\u001b[0m\u001b[0;34m.\u001b[0m\u001b[0m_device\u001b[0m \u001b[0;34m=\u001b[0m \u001b[0mparameters\u001b[0m\u001b[0;34m.\u001b[0m\u001b[0mdevice\u001b[0m\u001b[0;34m\u001b[0m\u001b[0m\n\u001b[1;32m    698\u001b[0m             \u001b[0mself\u001b[0m\u001b[0;34m.\u001b[0m\u001b[0m_channels\u001b[0m \u001b[0;34m=\u001b[0m \u001b[0mparameters\u001b[0m\u001b[0;34m.\u001b[0m\u001b[0mchannelCount\u001b[0m\u001b[0;34m\u001b[0m\u001b[0m\n",
      "\u001b[0;32m~/miniconda3/envs/Instru/lib/python3.5/site-packages/sounddevice.py\u001b[0m in \u001b[0;36m_get_stream_parameters\u001b[0;34m(kind, device, channels, dtype, latency, extra_settings, samplerate)\u001b[0m\n\u001b[1;32m   2487\u001b[0m \u001b[0;34m\u001b[0m\u001b[0m\n\u001b[1;32m   2488\u001b[0m     \u001b[0mdevice\u001b[0m \u001b[0;34m=\u001b[0m \u001b[0m_get_device_id\u001b[0m\u001b[0;34m(\u001b[0m\u001b[0mdevice\u001b[0m\u001b[0;34m,\u001b[0m \u001b[0mkind\u001b[0m\u001b[0;34m,\u001b[0m \u001b[0mraise_on_error\u001b[0m\u001b[0;34m=\u001b[0m\u001b[0;32mTrue\u001b[0m\u001b[0;34m)\u001b[0m\u001b[0;34m\u001b[0m\u001b[0m\n\u001b[0;32m-> 2489\u001b[0;31m     \u001b[0minfo\u001b[0m \u001b[0;34m=\u001b[0m \u001b[0mquery_devices\u001b[0m\u001b[0;34m(\u001b[0m\u001b[0mdevice\u001b[0m\u001b[0;34m)\u001b[0m\u001b[0;34m\u001b[0m\u001b[0m\n\u001b[0m\u001b[1;32m   2490\u001b[0m     \u001b[0;32mif\u001b[0m \u001b[0mchannels\u001b[0m \u001b[0;32mis\u001b[0m \u001b[0;32mNone\u001b[0m\u001b[0;34m:\u001b[0m\u001b[0;34m\u001b[0m\u001b[0m\n\u001b[1;32m   2491\u001b[0m         \u001b[0mchannels\u001b[0m \u001b[0;34m=\u001b[0m \u001b[0minfo\u001b[0m\u001b[0;34m[\u001b[0m\u001b[0;34m'max_'\u001b[0m \u001b[0;34m+\u001b[0m \u001b[0mkind\u001b[0m \u001b[0;34m+\u001b[0m \u001b[0;34m'_channels'\u001b[0m\u001b[0;34m]\u001b[0m\u001b[0;34m\u001b[0m\u001b[0m\n",
      "\u001b[0;32m~/miniconda3/envs/Instru/lib/python3.5/site-packages/sounddevice.py\u001b[0m in \u001b[0;36mquery_devices\u001b[0;34m(device, kind)\u001b[0m\n\u001b[1;32m    485\u001b[0m     \u001b[0minfo\u001b[0m \u001b[0;34m=\u001b[0m \u001b[0m_lib\u001b[0m\u001b[0;34m.\u001b[0m\u001b[0mPa_GetDeviceInfo\u001b[0m\u001b[0;34m(\u001b[0m\u001b[0mdevice\u001b[0m\u001b[0;34m)\u001b[0m\u001b[0;34m\u001b[0m\u001b[0m\n\u001b[1;32m    486\u001b[0m     \u001b[0;32mif\u001b[0m \u001b[0;32mnot\u001b[0m \u001b[0minfo\u001b[0m\u001b[0;34m:\u001b[0m\u001b[0;34m\u001b[0m\u001b[0m\n\u001b[0;32m--> 487\u001b[0;31m         \u001b[0;32mraise\u001b[0m \u001b[0mPortAudioError\u001b[0m\u001b[0;34m(\u001b[0m\u001b[0;34m'Error querying device {0}'\u001b[0m\u001b[0;34m.\u001b[0m\u001b[0mformat\u001b[0m\u001b[0;34m(\u001b[0m\u001b[0mdevice\u001b[0m\u001b[0;34m)\u001b[0m\u001b[0;34m)\u001b[0m\u001b[0;34m\u001b[0m\u001b[0m\n\u001b[0m\u001b[1;32m    488\u001b[0m     \u001b[0;32massert\u001b[0m \u001b[0minfo\u001b[0m\u001b[0;34m.\u001b[0m\u001b[0mstructVersion\u001b[0m \u001b[0;34m==\u001b[0m \u001b[0;36m2\u001b[0m\u001b[0;34m\u001b[0m\u001b[0m\n\u001b[1;32m    489\u001b[0m     \u001b[0mname_bytes\u001b[0m \u001b[0;34m=\u001b[0m \u001b[0m_ffi\u001b[0m\u001b[0;34m.\u001b[0m\u001b[0mstring\u001b[0m\u001b[0;34m(\u001b[0m\u001b[0minfo\u001b[0m\u001b[0;34m.\u001b[0m\u001b[0mname\u001b[0m\u001b[0;34m)\u001b[0m\u001b[0;34m\u001b[0m\u001b[0m\n",
      "\u001b[0;31mPortAudioError\u001b[0m: Error querying device -1"
     ]
=======
   "execution_count": 4,
   "metadata": {},
   "outputs": [
    {
     "data": {
      "text/plain": [
       "[<matplotlib.lines.Line2D at 0x168674d51d0>]"
      ]
     },
     "execution_count": 4,
     "metadata": {},
     "output_type": "execute_result"
    },
    {
     "data": {
      "image/png": "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\n",
      "text/plain": [
       "<matplotlib.figure.Figure at 0x16863365278>"
      ]
     },
     "metadata": {},
     "output_type": "display_data"
>>>>>>> upstream/master
    }
   ],
   "source": [
    "myaudio=AudioControl()\n",
    "plt.plot(myaudio.crearOnda(440))\n",
    "plt.plot(myaudio.crearRect(440))"
   ]
  },
  {
   "cell_type": "code",
   "execution_count": null,
   "metadata": {},
   "outputs": [],
   "source": []
  }
 ],
 "metadata": {
  "kernelspec": {
   "display_name": "Python (Instru)",
   "language": "python",
   "name": "intru"
  },
  "language_info": {
   "codemirror_mode": {
    "name": "ipython",
    "version": 3
   },
   "file_extension": ".py",
   "mimetype": "text/x-python",
   "name": "python",
   "nbconvert_exporter": "python",
   "pygments_lexer": "ipython3",
   "version": "3.5.5"
  }
 },
 "nbformat": 4,
 "nbformat_minor": 2
}
