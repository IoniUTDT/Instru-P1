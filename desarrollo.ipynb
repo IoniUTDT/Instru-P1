{
 "cells": [
  {
   "cell_type": "code",
   "execution_count": 1,
   "metadata": {},
   "outputs": [],
   "source": [
    "# -*- coding: utf-8 -*-\n",
    "\"\"\"\n",
    "Created on Mon Aug 27 17:23:38 2018\n",
    "\n",
    "@author: Agus\n",
    "\"\"\"\n",
    "import numpy as np\n",
    "import sounddevice as sd\n",
    "import matplotlib.pyplot as plt\n",
    "\n",
    "\n",
    "class AudioControl(object):\n",
    "    \n",
    "    def __init__(self):\n",
    "        self.fs=48000\n",
    "        self.ampMax=1\n",
    "    \n",
    "    def crearOnda(self, frec,amp=None,long=1,offset=0):\n",
    "        if amp is None:\n",
    "            amp=self.ampMax\n",
    "        t=np.arange(long*self.fs)\n",
    "        return amp*np.sin(2*np.pi*frec*t/self.fs)+offset\n",
    "    \"\"\"\"Revisar valores de amplitud (máximos y eso). Suponemos que va entre 1 y menos 1\n",
    "    hay algún tema con escribir las variables adentro y afuera de la clase\"\"\"\n",
    "    \n",
    "    \n",
    "    def test(self):\n",
    "        sd.play(np.stack((self.crearOnda(440),self.crearOnda(440,amp=0)), axis=-1))\n",
    "        sd.wait()\n",
    "        sd.play(np.stack((self.crearOnda(440,amp=0),self.crearOnda(440)), axis=-1))\n",
    "        sd.wait()\n",
    "        print('Tendría que haber escuchado 1 segundo de audio en cada canal')\n",
    "        \n",
    "    def crearRect (self,frec,amp=None,long=1,offset=0):\n",
    "        if amp is None:\n",
    "            amp=self.ampMax\n",
    "        t=np.arange(long*self.fs)\n",
    "        T_samples=t*frec/self.fs\n",
    "        T_samples=T_samples-np.trunc(T_samples)\n",
    "        return np.where(T_samples<0.5,1,0)*amp+offset\n",
    "        \n",
    "    def crearRamp(Vin,Vend):\n",
    "        pass\n",
    "        \n",
    "            "
   ]
  },
  {
   "cell_type": "code",
   "execution_count": 2,
   "metadata": {},
   "outputs": [
    {
     "name": "stdout",
     "output_type": "stream",
     "text": [
      "Tendría que haber escuchado 1 segundo de audio en cada canal\n"
     ]
    }
   ],
   "source": [
    "myaudio=AudioControl()\n",
    "myaudio.test()"
   ]
  },
  {
   "cell_type": "code",
   "execution_count": null,
   "metadata": {},
   "outputs": [],
   "source": []
  }
 ],
 "metadata": {
  "kernelspec": {
   "display_name": "Python3 (instru)",
   "language": "python",
   "name": "instru"
  },
  "language_info": {
   "codemirror_mode": {
    "name": "ipython",
    "version": 3
   },
   "file_extension": ".py",
   "mimetype": "text/x-python",
   "name": "python",
   "nbconvert_exporter": "python",
   "pygments_lexer": "ipython3",
   "version": "3.6.4"
  }
 },
 "nbformat": 4,
 "nbformat_minor": 2
}
