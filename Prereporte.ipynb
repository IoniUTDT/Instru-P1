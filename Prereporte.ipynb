{
 "cells": [
  {
   "cell_type": "markdown",
   "metadata": {},
   "source": [
    "# 27/9/18 #\n",
    "\n",
    "Hoy vinimos al labo a tratar de medir con instrumentos. La idea era llegar a las 15hs, pero recien a las 17hs pudimos entrar. Esperemos llegar a medir.\n",
    "\n",
    "Lo primero fue instalar todo (el git y el env) en la una compu cualquiera. ahora estamos instalando el sounddevice. Anda.\n",
    "    "
   ]
  },
  {
   "cell_type": "code",
   "execution_count": 1,
   "metadata": {},
   "outputs": [],
   "source": [
    "import AudioControl\n",
    "import numpy as np\n",
    "import matplotlib.pyplot as plt\n",
    "# import TektronixTDS1002B\n",
    "# %matplotlib widget\n",
    "# %matplotlib qt\n",
    "%load_ext autoreload"
   ]
  },
  {
   "cell_type": "code",
   "execution_count": 2,
   "metadata": {},
   "outputs": [
    {
     "name": "stdout",
     "output_type": "stream",
     "text": [
      "Tendría que haber escuchado 1 segundo de audio en cada canal\n"
     ]
    }
   ],
   "source": [
    "# Vamos a probar los canales con nuestros cables mandando al osciloscopio.\n",
    "AudioControl.testOutput()\n",
    "# Se ve la salida en el osciloscopio.\n",
    "# Tuvimos problema xq conectamos los plug despues de inicial el kernel, pero reseteando el kernoel funciono bien"
   ]
  },
  {
   "cell_type": "code",
   "execution_count": 8,
   "metadata": {},
   "outputs": [],
   "source": [
    "# El volumen de la compu esta al maximo. Vamos a testear el rango de voltajes. \n",
    "data = AudioControl.playrec(AudioControl.Onda(440,long=60,amp=0.5))\n",
    "# Data guardada en all0000\n",
    "# Vpp entre 1.3 y 1.4 "
   ]
  },
  {
   "cell_type": "code",
   "execution_count": 10,
   "metadata": {},
   "outputs": [],
   "source": [
    "# El volumen de la compu esta al 50%. Vamos a testear el rango de voltajes. \n",
    "data = AudioControl.playrec(AudioControl.Onda(440,long=60,amp=0.5))\n",
    "# Data guardada en raiz all0000\n",
    "# Vpp entre 480 y 600 mV "
   ]
  },
  {
   "cell_type": "code",
   "execution_count": 12,
   "metadata": {},
   "outputs": [],
   "source": [
    "# El volumen de la compu esta al 100%. Vamos a testear el rango de voltajes. \n",
    "data = AudioControl.playrec(AudioControl.Onda(440,long=30,amp=1))\n",
    "# Data guardada en 0001\n",
    "# 2.56 -2.6 Vpp"
   ]
  },
  {
   "cell_type": "code",
   "execution_count": 13,
   "metadata": {},
   "outputs": [],
   "source": [
    "# El volumen de la compu esta al 100%. Vamos a testear el rango de voltajes. \n",
    "data = AudioControl.playrec(AudioControl.Onda(440,long=10,amp=2))\n",
    "# Data guardada en 0002\n",
    "# 2.56 -2.6 Vpp pero satura"
   ]
  },
  {
   "cell_type": "markdown",
   "metadata": {},
   "source": [
    "### Conclusiones parciales ###\n",
    "\n",
    "La salida va al menos en esta placa como mucho 2.6 Vpp, el array de datos puede ir como mucho de 1 a -1 y despues satura. Convendria modificar en el codigo en el defalut qe amp_max sea 1"
   ]
  },
  {
   "cell_type": "code",
   "execution_count": 5,
   "metadata": {},
   "outputs": [
    {
     "data": {
      "image/png": "[encoded data removed]",
      "text/plain": [
       "<matplotlib.figure.Figure at 0x9b34f28>"
      ]
     },
     "metadata": {
      "needs_background": "light"
     },
     "output_type": "display_data"
    }
   ],
   "source": [
    "# Ahora vamos a chequear que la entracda que estamos usando (que en esta compu es line-in y no Mic) funcione\n",
    "# Vamos a medir en paralelo con el osciloscopio para testera la señal. \n",
    "data = AudioControl.playrec(AudioControl.Onda(440,long=10,amp=0.5), show =True)\n",
    "# Data 0003\n",
    "# np.savetxt('./Mediciones/dataEquivalente0003.csv',data,delimiter=',')"
   ]
  },
  {
   "cell_type": "code",
   "execution_count": 4,
   "metadata": {},
   "outputs": [],
   "source": [
    "# Vamos a enviar una cuadrada para ver el slewrate del generador\n",
    "data = AudioControl.playrec(AudioControl.square(440,long=10))\n",
    "np.savetxt('./Mediciones/dataEquivalente0004.csv',data,delimiter=',')\n",
    "# grabo como 0004"
   ]
  },
  {
   "cell_type": "code",
   "execution_count": null,
   "metadata": {},
   "outputs": [
    {
     "name": "stderr",
     "output_type": "stream",
     "text": [
      "  0%|                                                 | 0/1000 [00:00<?, ?it/s]"
     ]
    }
   ],
   "source": [
    "# Vamos a hacer ahora un barrido en frecuencias.\n",
    "# Lo hacemos de 1 a 40000 hz porque mas alla de eso empieza a haber claros problemas de aliasing. \n",
    "# tiro un extraño error. Probamos actualizar todos los paquetes y volver a probar.\n",
    "RtaFrecProtoboard = AudioControl.RtaFrecuencia(frec_min=1, frec_max=40000, stereo=True)"
   ]
  },
  {
   "cell_type": "code",
   "execution_count": null,
   "metadata": {},
   "outputs": [],
   "source": [
    "data = AudioControl.playrec_sync(AudioControl.square(0.2,long=10), plot=True)"
   ]
  },
  {
   "cell_type": "code",
   "execution_count": null,
   "metadata": {},
   "outputs": [],
   "source": [
    "# Al llegar aca tuvimos problemas, hay dos problemas que no se si estan conectados o no. Uno es que el line-in parece no tener los dos canales conectados y otro que el sd.wait(9 empezo a flashearla.\n",
    "# Pero nos quedamos sin tiempo. Hasta aca llegadmos"
   ]
  }
 ],
 "metadata": {
  "kernelspec": {
   "display_name": "Python 3",
   "language": "python",
   "name": "python3"
  },
  "language_info": {
   "codemirror_mode": {
    "name": "ipython",
    "version": 3
   },
   "file_extension": ".py",
   "mimetype": "text/x-python",
   "name": "python",
   "nbconvert_exporter": "python",
   "pygments_lexer": "ipython3",
   "version": "3.6.2"
  }
 },
 "nbformat": 4,
 "nbformat_minor": 2
}
