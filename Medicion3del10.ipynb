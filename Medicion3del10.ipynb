{
 "cells": [
  {
   "cell_type": "markdown",
   "metadata": {},
   "source": [
    "# 3 de Octubre #\n",
    "\n",
    "Iniciamos mediciones en mi compu laptop que tiene tres conectores de audio, una salida y dos entradas. Usamos line in y la salida a auriculares.\n",
    "\n"
   ]
  },
  {
   "cell_type": "code",
   "execution_count": 2,
   "metadata": {},
   "outputs": [],
   "source": [
    "# importamos todo lo necesario\n",
    "%load_ext autoreload\n",
    "%autoreload 2\n",
    "%matplotlib qt\n",
    "import AudioControl\n",
    "import numpy as np"
   ]
  },
  {
   "cell_type": "code",
   "execution_count": 6,
   "metadata": {},
   "outputs": [
    {
     "name": "stdout",
     "output_type": "stream",
     "text": [
      "Tendría que haber escuchado 1 segundo de audio en cada canal\n"
     ]
    }
   ],
   "source": [
    "# Probamos audio y anda\n",
    "AudioControl.testOutput()\n",
    "# Por alguna razon la señal tiene bastante ruido. "
   ]
  },
  {
   "cell_type": "code",
   "execution_count": 24,
   "metadata": {},
   "outputs": [
    {
     "name": "stdout",
     "output_type": "stream",
     "text": [
      "Se almacena como medicion1.csv\n"
     ]
    }
   ],
   "source": [
    "# Definimos el numero de medicion que se autoincrementa\n",
    "mediciones = 0\n",
    "# Vamos a caracterizar la escala de la salida de la compu. El volumen de la compu esta en maximo, \n",
    "data = AudioControl.playrec(AudioControl.Onda(1000,long=3,amp=0.5),show=True)\n",
    "# El Vpp del Ch1 es 2.76 y el del Ch2 es 3.24 aprox\n",
    "mediciones += 1\n",
    "print ('Se almacena como medicion'+str(mediciones)+'.csv')\n",
    "np.savetxt('./Mediciones/medicion'+str(mediciones)+'.csv',data,delimiter=',')"
   ]
  },
  {
   "cell_type": "code",
   "execution_count": 25,
   "metadata": {},
   "outputs": [
    {
     "name": "stdout",
     "output_type": "stream",
     "text": [
      "Se almacena como medicion2.csv\n"
     ]
    }
   ],
   "source": [
    "# Cambiamos la amplitud a 1\n",
    "data = AudioControl.playrec(AudioControl.Onda(1000,long=3,amp=1),show=True)\n",
    "# El Vpp del Ch1 es 4.68 y el del Ch2 es 5.2 aprox\n",
    "mediciones += 1\n",
    "print ('Se almacena como medicion'+str(mediciones)+'.csv')\n",
    "np.savetxt('./Mediciones/medicion'+str(mediciones)+'.csv',data,delimiter=',')\n",
    "# NOTA: el Ch1 tiene una sonda! el ch2 no. \n",
    "# En el osciloscopio se observa que empieza a saurar la señal"
   ]
  },
  {
   "cell_type": "code",
   "execution_count": 27,
   "metadata": {},
   "outputs": [
    {
     "name": "stdout",
     "output_type": "stream",
     "text": [
      "Se almacena como medicion4.csv\n"
     ]
    }
   ],
   "source": [
    "# Cambiamos la amplitud a 2\n",
    "data = AudioControl.playrec(AudioControl.Onda(1000,long=3,amp=2),show=True)\n",
    "# El Vpp del Ch1 es 4.88 y el del Ch2 es 5.28 aprox\n",
    "mediciones += 1\n",
    "print ('Se almacena como medicion'+str(mediciones)+'.csv')\n",
    "np.savetxt('./Mediciones/medicion'+str(mediciones)+'.csv',data,delimiter=',')\n",
    "# En el osciloscopio se observa que la señal satura en valores muy similares a los de antes. Se observa una forma muy recortada.\n",
    "# No medimos señal del osciloscopio porque no tenemos el soft para transferir los datos y no queremos perder tiempo instalando cosas.\n",
    "# CONCLUSION: Para valores mayores a 1 de amp, la placa satura la salida, ya sea porque hace un clamp antes o porque no le da la tension. "
   ]
  },
  {
   "cell_type": "code",
   "execution_count": 29,
   "metadata": {},
   "outputs": [
    {
     "name": "stdout",
     "output_type": "stream",
     "text": [
      "Se almacena como medicion5.csv\n"
     ]
    }
   ],
   "source": [
    "# Vamos a observar ahora que pasa con la saturacion de la adquisicion\n",
    "data = AudioControl.playrec(AudioControl.Onda(1000,long=3,amp=1),show=True)\n",
    "mediciones += 1\n",
    "print ('Se almacena como medicion'+str(mediciones)+'.csv')\n",
    "np.savetxt('./Mediciones/medicion'+str(mediciones)+'.csv',data,delimiter=',')\n",
    "# En el grafico que se abre en ventana aparte se observa que la placa claramente satura. Vamos a reducir la amplitud hasta que no sature. "
   ]
  },
  {
   "cell_type": "code",
   "execution_count": 30,
   "metadata": {},
   "outputs": [
    {
     "name": "stdout",
     "output_type": "stream",
     "text": [
      "Se almacena como medicion6.csv\n"
     ]
    }
   ],
   "source": [
    "# Vamos a observar ahora que pasa con la saturacion de la adquisicion\n",
    "data = AudioControl.playrec(AudioControl.Onda(1000,long=0.5,amp=0.5),show=True)\n",
    "mediciones += 1\n",
    "print ('Se almacena como medicion'+str(mediciones)+'.csv')\n",
    "np.savetxt('./Mediciones/medicion'+str(mediciones)+'.csv',data,delimiter=',')\n",
    "# Todavia satura pero poco."
   ]
  },
  {
   "cell_type": "code",
   "execution_count": 31,
   "metadata": {},
   "outputs": [
    {
     "name": "stdout",
     "output_type": "stream",
     "text": [
      "Se almacena como medicion7.csv\n"
     ]
    }
   ],
   "source": [
    "# Vamos a observar ahora que pasa con la saturacion de la adquisicion\n",
    "data = AudioControl.playrec(AudioControl.Onda(1000,long=3,amp=0.4),show=True)\n",
    "mediciones += 1\n",
    "print ('Se almacena como medicion'+str(mediciones)+'.csv')\n",
    "np.savetxt('./Mediciones/medicion'+str(mediciones)+'.csv',data,delimiter=',')\n",
    "# Con estos valores no satura la entrada, el osciloscopio muestar valores Vpp de 2.48 en el Ch1 y 2.96 en el Ch2"
   ]
  },
  {
   "cell_type": "code",
   "execution_count": 32,
   "metadata": {},
   "outputs": [
    {
     "name": "stdout",
     "output_type": "stream",
     "text": [
      "Se almacena como medicion8.csv\n"
     ]
    }
   ],
   "source": [
    "# Vamos a observar ahora que pasa con la saturacion de la adquisicion\n",
    "data = AudioControl.playrec(AudioControl.Onda(1000,long=3,amp=0.45),show=True)\n",
    "mediciones += 1\n",
    "print ('Se almacena como medicion'+str(mediciones)+'.csv')\n",
    "np.savetxt('./Mediciones/medicion'+str(mediciones)+'.csv',data,delimiter=',')\n",
    "# Con estos valores apenas satura, en el Ch2 de la compu, el osciloscopio muestar valores Vpp de 2.56 en el Ch1 y 2.76 en el Ch2"
   ]
  },
  {
   "cell_type": "markdown",
   "metadata": {},
   "source": [
    "# Conclusiones parciales #\n",
    "La placa de sonido recorta la salida si supera el valor de amplitud de 1. Para este valor, los Vpp estan en aproximadamente 5V\n",
    "La placa de entrada registra hasta valores Vpp de 2.5V, que se corresponde con una amplitud aproximada de 0.4 en la señal de salida."
   ]
  },
  {
   "cell_type": "code",
   "execution_count": 3,
   "metadata": {},
   "outputs": [
    {
     "name": "stderr",
     "output_type": "stream",
     "text": [
      "100%|████████████████████████████████████████████████████████████████████████████████| 100/100 [02:53<00:00,  1.74s/it]\n"
     ]
    }
   ],
   "source": [
    "rtaFrec = AudioControl.RtaFrecuencia()\n",
    "# En el grafico que se guarda en la carpeta se observa que tiene buena respuesta de 10Hz pora arriva y decae rapidamente cerca de los 20Khz\n",
    "# tiene sentido porque es el rango audible.\n",
    "np.savetxt('./Mediciones/RtaFrec.csv',rtaFrec,delimiter=',')\n"
   ]
  },
  {
   "cell_type": "code",
   "execution_count": 4,
   "metadata": {},
   "outputs": [],
   "source": [
    "# Acabo de armar un circuito como el que se ve en la figura 1 del cuaderno. \n",
    "data = AudioControl.playrec(AudioControl.Onda(440,long=10),show=True)\n",
    "np.savetxt('./Mediciones/Exp1.csv',data,delimiter=',')\n"
   ]
  },
  {
   "cell_type": "code",
   "execution_count": 17,
   "metadata": {},
   "outputs": [],
   "source": [
    "Ch1 = [dat[0] for dat in data[30000:32000]]\n",
    "Ch2 = [dat[1] for dat in data[30000:32000]]\n",
    "diff = np.array(Ch1) - np.array(Ch2)"
   ]
  },
  {
   "cell_type": "code",
   "execution_count": 20,
   "metadata": {},
   "outputs": [
    {
     "data": {
      "text/plain": [
       "[<matplotlib.lines.Line2D at 0x131aaa8f1d0>]"
      ]
     },
     "execution_count": 20,
     "metadata": {},
     "output_type": "execute_result"
    }
   ],
   "source": [
    "plt.plot(Ch1)\n",
    "plt.plot(Ch2)\n",
    "plt.plot(diff)\n",
    "plt.figure()\n",
    "plt.plot(Ch2,diff)"
   ]
  },
  {
   "cell_type": "code",
   "execution_count": null,
   "metadata": {},
   "outputs": [],
   "source": [
    "import matplotlib.pyplot as plt\n"
   ]
  }
 ],
 "metadata": {
  "kernelspec": {
   "display_name": "Python 3",
   "language": "python",
   "name": "python3"
  },
  "language_info": {
   "codemirror_mode": {
    "name": "ipython",
    "version": 3
   },
   "file_extension": ".py",
   "mimetype": "text/x-python",
   "name": "python",
   "nbconvert_exporter": "python",
   "pygments_lexer": "ipython3",
   "version": "3.6.6"
  }
 },
 "nbformat": 4,
 "nbformat_minor": 2
}
