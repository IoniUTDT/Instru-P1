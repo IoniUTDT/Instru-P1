{
 "cells": [
  {
   "cell_type": "code",
   "execution_count": 1,
   "metadata": {},
   "outputs": [],
   "source": [
    "%load_ext autoreload\n",
    "%autoreload 2\n",
    "%matplotlib qt"
   ]
  },
  {
   "cell_type": "code",
   "execution_count": 2,
   "metadata": {},
   "outputs": [],
   "source": [
    "import AudioControl"
   ]
  },
  {
   "cell_type": "code",
   "execution_count": 7,
   "metadata": {},
   "outputs": [
    {
     "name": "stdout",
     "output_type": "stream",
     "text": [
      "Evaluando frecuencia: 10.0\n",
      "Evaluando frecuencia: 10.974987654930562\n",
      "Evaluando frecuencia: 12.045035402587823\n",
      "Evaluando frecuencia: 13.219411484660288\n",
      "Evaluando frecuencia: 14.508287784959395\n",
      "Evaluando frecuencia: 15.922827933410922\n",
      "Evaluando frecuencia: 17.47528400007684\n",
      "Evaluando frecuencia: 19.179102616724887\n",
      "Evaluando frecuencia: 21.049041445120206\n",
      "Evaluando frecuencia: 23.101297000831604\n",
      "Evaluando frecuencia: 25.353644939701113\n",
      "Evaluando frecuencia: 27.825594022071243\n",
      "Evaluando frecuencia: 30.538555088334157\n",
      "Evaluando frecuencia: 33.516026509388425\n",
      "Evaluando frecuencia: 36.783797718286344\n",
      "Evaluando frecuencia: 40.37017258596554\n",
      "Evaluando frecuencia: 44.30621457583882\n",
      "Evaluando frecuencia: 48.62601580065353\n",
      "Evaluando frecuencia: 53.3669923120631\n",
      "Evaluando frecuencia: 58.570208180566674\n",
      "Evaluando frecuencia: 64.28073117284322\n",
      "Evaluando frecuencia: 70.54802310718645\n",
      "Evaluando frecuencia: 77.4263682681127\n",
      "Evaluando frecuencia: 84.97534359086447\n",
      "Evaluando frecuencia: 93.26033468832199\n",
      "Evaluando frecuencia: 102.35310218990269\n",
      "Evaluando frecuencia: 112.33240329780277\n",
      "Evaluando frecuencia: 123.28467394420659\n",
      "Evaluando frecuencia: 135.30477745798075\n",
      "Evaluando frecuencia: 148.4968262254465\n",
      "Evaluando frecuencia: 162.97508346206433\n",
      "Evaluando frecuencia: 178.8649529057435\n",
      "Evaluando frecuencia: 196.30406500402725\n",
      "Evaluando frecuencia: 215.44346900318845\n",
      "Evaluando frecuencia: 236.4489412645407\n",
      "Evaluando frecuencia: 259.5024211399737\n",
      "Evaluando frecuencia: 284.8035868435802\n",
      "Evaluando frecuencia: 312.5715849688235\n",
      "Evaluando frecuencia: 343.04692863149194\n",
      "Evaluando frecuencia: 376.49358067924715\n",
      "Evaluando frecuencia: 413.20124001153386\n",
      "Evaluando frecuencia: 453.4878508128582\n",
      "Evaluando frecuencia: 497.7023564332114\n",
      "Evaluando frecuencia: 546.2277217684342\n",
      "Evaluando frecuencia: 599.4842503189409\n",
      "Evaluando frecuencia: 657.9332246575682\n",
      "Evaluando frecuencia: 722.0809018385471\n",
      "Evaluando frecuencia: 792.4828983539178\n",
      "Evaluando frecuencia: 869.7490026177834\n",
      "Evaluando frecuencia: 954.5484566618347\n",
      "Evaluando frecuencia: 1047.615752789665\n",
      "Evaluando frecuencia: 1149.7569953977368\n",
      "Evaluando frecuencia: 1261.856883066021\n",
      "Evaluando frecuencia: 1384.886371393873\n",
      "Evaluando frecuencia: 1519.9110829529347\n",
      "Evaluando frecuencia: 1668.100537200059\n",
      "Evaluando frecuencia: 1830.7382802953698\n",
      "Evaluando frecuencia: 2009.2330025650479\n",
      "Evaluando frecuencia: 2205.1307399030457\n",
      "Evaluando frecuencia: 2420.1282647943835\n",
      "Evaluando frecuencia: 2656.0877829466867\n",
      "Evaluando frecuencia: 2915.0530628251786\n",
      "Evaluando frecuencia: 3199.2671377973843\n",
      "Evaluando frecuencia: 3511.1917342151346\n",
      "Evaluando frecuencia: 3853.5285937105314\n",
      "Evaluando frecuencia: 4229.242874389499\n",
      "Evaluando frecuencia: 4641.588833612782\n",
      "Evaluando frecuencia: 5094.138014816381\n",
      "Evaluando frecuencia: 5590.8101825122285\n",
      "Evaluando frecuencia: 6135.907273413176\n",
      "Evaluando frecuencia: 6734.150657750828\n",
      "Evaluando frecuencia: 7390.7220335257825\n",
      "Evaluando frecuencia: 8111.308307896872\n",
      "Evaluando frecuencia: 8902.150854450392\n",
      "Evaluando frecuencia: 9770.099572992256\n",
      "Evaluando frecuencia: 10722.672220103253\n",
      "Evaluando frecuencia: 11768.119524349991\n",
      "Evaluando frecuencia: 12915.496650148827\n",
      "Evaluando frecuencia: 14174.741629268077\n",
      "Evaluando frecuencia: 15556.761439304722\n",
      "Evaluando frecuencia: 17073.526474706923\n",
      "Evaluando frecuencia: 18738.174228603868\n",
      "Evaluando frecuencia: 20565.123083486516\n",
      "Evaluando frecuencia: 22570.197196339213\n",
      "Evaluando frecuencia: 24770.76355991714\n",
      "Evaluando frecuencia: 27185.8824273294\n",
      "Evaluando frecuencia: 29836.472402833402\n",
      "Evaluando frecuencia: 32745.491628777316\n",
      "Evaluando frecuencia: 35938.13663804626\n",
      "Evaluando frecuencia: 39442.06059437664\n",
      "Evaluando frecuencia: 43287.612810830615\n",
      "Evaluando frecuencia: 47508.101621027934\n",
      "Evaluando frecuencia: 52140.08287999695\n",
      "Evaluando frecuencia: 57223.676593502205\n",
      "Evaluando frecuencia: 62802.914418342596\n",
      "Evaluando frecuencia: 68926.12104349709\n",
      "Evaluando frecuencia: 75646.3327554629\n",
      "Evaluando frecuencia: 83021.75681319753\n",
      "Evaluando frecuencia: 91116.27561154906\n",
      "Evaluando frecuencia: 100000.0\n"
     ]
    }
   ],
   "source": [
    "dummy1, dummy2, dummy3 = AudioControl.barrido_frecuencia_sin(frec_min=10,frec_max=100000,pasos=100)"
   ]
  },
  {
   "cell_type": "code",
   "execution_count": 40,
   "metadata": {},
   "outputs": [
    {
     "name": "stdout",
     "output_type": "stream",
     "text": [
      "Funcion en desarrollo. Queremos probar implementar el sync salteando la medicion\n",
      "Pico 1 esperado en: 4160.0\n",
      "Pico 2 esperado en: 10400.0\n",
      "Pico no esperado en: 8320.0\n",
      "312\n",
      "197.52621547022747\n",
      "197.4144750440744\n",
      "15.245691731696997\n",
      "Primer pico detectado\n",
      "Segundo pico detectado\n",
      "Principio y fin de la señal detectadas\n",
      "pos max: 0.2\n"
     ]
    }
   ],
   "source": [
    "AudioControl.sync_test(signal)"
   ]
  },
  {
   "cell_type": "code",
   "execution_count": 64,
   "metadata": {},
   "outputs": [],
   "source": [
    " data = AudioControl.playrec(AudioControl.Onda(440),show=True)\n",
    "#AudioControl.barrido_frecuencia_sin()"
   ]
  },
  {
   "cell_type": "code",
   "execution_count": 67,
   "metadata": {},
   "outputs": [
    {
     "name": "stdout",
     "output_type": "stream",
     "text": [
      "Primer pico detectado\n",
      "Error, no se ha detectado el principio o fin de la señal en el Ch1.\n",
      "Cambiando tiempo de espera a: 0.2\n",
      "Primer pico detectado\n",
      "Segundo pico detectado\n",
      "Principio y fin de la señal detectadas\n",
      "Se ha detectado el inicio de la señal a los 0.4211875 segundos o en el frame: 20217\n",
      "Se ha detectado el fin de la señal a los 1.4011875 segundos o en el frame: 67257\n"
     ]
    }
   ],
   "source": [
    "test = AudioControl.sync(AudioControl.Onda(440), show=True)"
   ]
  },
  {
   "cell_type": "code",
   "execution_count": 35,
   "metadata": {},
   "outputs": [],
   "source": [
    "t = numpy.fft.fft(trig)"
   ]
  },
  {
   "cell_type": "code",
   "execution_count": 36,
   "metadata": {},
   "outputs": [
    {
     "data": {
      "text/plain": [
       "[<matplotlib.lines.Line2D at 0x7f03af3f7d68>]"
      ]
     },
     "execution_count": 36,
     "metadata": {},
     "output_type": "execute_result"
    }
   ],
   "source": [
    "plt.figure(2)\n",
    "plt.plot(numpy.abs(t))"
   ]
  },
  {
   "cell_type": "code",
   "execution_count": null,
   "metadata": {},
   "outputs": [],
   "source": []
  },
  {
   "cell_type": "code",
   "execution_count": 28,
   "metadata": {},
   "outputs": [
    {
     "data": {
      "text/plain": [
       "48000"
      ]
     },
     "execution_count": 28,
     "metadata": {},
     "output_type": "execute_result"
    }
   ],
   "source": []
  },
  {
   "cell_type": "code",
   "execution_count": 19,
   "metadata": {},
   "outputs": [
    {
     "ename": "ValueError",
     "evalue": "all the input arrays must have same number of dimensions",
     "output_type": "error",
     "traceback": [
      "\u001b[1;31m---------------------------------------------------------------------------\u001b[0m",
      "\u001b[1;31mValueError\u001b[0m                                Traceback (most recent call last)",
      "\u001b[1;32m<ipython-input-19-136d4af0f13e>\u001b[0m in \u001b[0;36m<module>\u001b[1;34m()\u001b[0m\n\u001b[1;32m----> 1\u001b[1;33m \u001b[0mnumpy\u001b[0m\u001b[1;33m.\u001b[0m\u001b[0mconcatenate\u001b[0m \u001b[1;33m(\u001b[0m\u001b[1;33m(\u001b[0m\u001b[0mdata\u001b[0m\u001b[1;33m[\u001b[0m\u001b[1;36m0\u001b[0m\u001b[1;33m]\u001b[0m\u001b[1;33m,\u001b[0m\u001b[0mdata\u001b[0m\u001b[1;33m[\u001b[0m\u001b[1;36m1\u001b[0m\u001b[1;33m]\u001b[0m\u001b[1;33m,\u001b[0m\u001b[0mdata\u001b[0m\u001b[1;33m[\u001b[0m\u001b[1;36m2\u001b[0m\u001b[1;33m]\u001b[0m\u001b[1;33m)\u001b[0m\u001b[1;33m,\u001b[0m\u001b[0maxis\u001b[0m\u001b[1;33m=\u001b[0m\u001b[1;36m0\u001b[0m\u001b[1;33m)\u001b[0m\u001b[1;33m\u001b[0m\u001b[0m\n\u001b[0m",
      "\u001b[1;31mValueError\u001b[0m: all the input arrays must have same number of dimensions"
     ]
    }
   ],
   "source": [
    "numpy.concatenate ((data[0],data[1],data[2]),axis=0)"
   ]
  },
  {
   "cell_type": "code",
   "execution_count": null,
   "metadata": {},
   "outputs": [],
   "source": []
  }
 ],
 "metadata": {
  "kernelspec": {
   "display_name": "Python 3",
   "language": "python",
   "name": "python3"
  },
  "language_info": {
   "codemirror_mode": {
    "name": "ipython",
    "version": 3
   },
   "file_extension": ".py",
   "mimetype": "text/x-python",
   "name": "python",
   "nbconvert_exporter": "python",
   "pygments_lexer": "ipython3",
   "version": "3.7.0"
  }
 },
 "nbformat": 4,
 "nbformat_minor": 2
}
