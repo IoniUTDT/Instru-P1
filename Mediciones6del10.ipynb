{
 "cells": [
  {
   "cell_type": "code",
   "execution_count": 3,
   "metadata": {},
   "outputs": [],
   "source": [
    "# importamos todo lo necesario\n",
    "%load_ext autoreload\n",
    "%autoreload 2\n",
    "%matplotlib qt\n",
    "import AudioControl\n",
    "import numpy as np"
   ]
  },
  {
   "cell_type": "code",
   "execution_count": 4,
   "metadata": {},
   "outputs": [
    {
     "name": "stdout",
     "output_type": "stream",
     "text": [
      "Tendría que haber escuchado 1 segundo de audio en cada canal\n"
     ]
    }
   ],
   "source": [
    "AudioControl.testOutput()"
   ]
  },
  {
   "cell_type": "code",
   "execution_count": 7,
   "metadata": {},
   "outputs": [],
   "source": [
    "data = AudioControl.playrec(AudioControl.Onda(440,long=10),show=True)\n",
    "# Anda"
   ]
  },
  {
   "cell_type": "code",
   "execution_count": 20,
   "metadata": {},
   "outputs": [],
   "source": [
    "data = AudioControl.playrec(AudioControl.Onda(440),show=True) # Medimos con la figura 2.1\n",
    "# Despues de varios errores de conexiones da bien!"
   ]
  },
  {
   "cell_type": "code",
   "execution_count": 21,
   "metadata": {},
   "outputs": [],
   "source": [
    "np.savetxt(\"./Mediciones/D2Diodo1.csv\",data,delimiter=\",\")"
   ]
  },
  {
   "cell_type": "code",
   "execution_count": 22,
   "metadata": {},
   "outputs": [],
   "source": [
    "# Vuelvo a realizar la medicion pero sin la conexion de la laptop a la fuente xq parece que eso en el labo le metia mucho ruido (aca es dificil de comproibar)\n",
    "data = AudioControl.playrec(AudioControl.Onda(440),show=True) # Medimos con la figura 2.1\n",
    "np.savetxt(\"./Mediciones/D2Diodo2.csv\",data,delimiter=\",\")"
   ]
  },
  {
   "cell_type": "code",
   "execution_count": 3,
   "metadata": {},
   "outputs": [],
   "source": [
    "# Conecte y reconecte las cosas y creo que me esta dando diferente. Mido con el circuito de la fig 2.1 y sin las fuente conectada\n",
    "data = AudioControl.playrec(AudioControl.Onda(440),show=True) # Medimos con la figura 2.1\n",
    "np.savetxt(\"./Mediciones/D2Diodo3.csv\",data,delimiter=\",\")"
   ]
  },
  {
   "cell_type": "code",
   "execution_count": 4,
   "metadata": {},
   "outputs": [],
   "source": [
    "# Parece que la señal no es estable en el tiempo. Voy a tomar una medicion mas larga.\n",
    "data = AudioControl.playrec(AudioControl.Onda(440, long=30),show=True) # Medimos con la figura 2.1\n",
    "np.savetxt(\"./Mediciones/D2Diodo4.csv\",data,delimiter=\",\")"
   ]
  },
  {
   "cell_type": "markdown",
   "metadata": {},
   "source": [
    "# Caracterizacion del slew rate del un Op Amp LM324-N #\n",
    "\n",
    "El objetivo es usar la placa de sonido para mandar una onda que entre a un OpAmp en modo comparador. De esta manera la respuesta tiene que ser una señal cuadrada de igual frecuencia que la de entrada. Sobre esta respuesta se quiere medir el slew-rate del OpAmp. "
   ]
  },
  {
   "cell_type": "code",
   "execution_count": 5,
   "metadata": {},
   "outputs": [],
   "source": [
    "# Armamos la figura 2.2 del cuaderno y con ese circuito medimos:\n",
    "data = AudioControl.playrec(AudioControl.Onda(440),show=True) # Medimos con la figura 2.2\n",
    "np.savetxt(\"./Mediciones/LM324_1.csv\",data,delimiter=\",\")"
   ]
  },
  {
   "cell_type": "code",
   "execution_count": 6,
   "metadata": {},
   "outputs": [],
   "source": [
    "# Armamos la figura 2.2 del cuaderno y con ese circuito medimos:\n",
    "data = AudioControl.playrec(AudioControl.Onda(1200),show=True) # Medimos con la figura 2.2\n",
    "np.savetxt(\"./Mediciones/LM324_2.csv\",data,delimiter=\",\")"
   ]
  },
  {
   "cell_type": "code",
   "execution_count": 7,
   "metadata": {},
   "outputs": [],
   "source": [
    "# Hay un efecto de delay al parecer entre la se;al estimulo y la respuesta. Vamos a probar con frecuencias mas bajas.\n",
    "data = AudioControl.playrec(AudioControl.Onda(100),show=True) # Medimos con la figura 2.2\n",
    "np.savetxt(\"./Mediciones/LM324_3.csv\",data,delimiter=\",\")"
   ]
  },
  {
   "cell_type": "code",
   "execution_count": 8,
   "metadata": {},
   "outputs": [],
   "source": [
    "# Acabamos de comprobar que se podia madir con mas Fs pasamos de 48000 a 192000. El tema es que que la caracterizacion \n",
    "# estuvo hecha a 48000. Pero para esto sirve mucho tener mas resolucion temporal. \n",
    "data = AudioControl.playrec(AudioControl.Onda(440),show=True) # Medimos con la figura 2.2\n",
    "np.savetxt(\"./Mediciones/LM324_4.csv\",data,delimiter=\",\")"
   ]
  },
  {
   "cell_type": "markdown",
   "metadata": {},
   "source": [
    "# Caracterizacion del riple con un LM317 conectado como figura en el cuaderno figura 2.3 #\n",
    "La idea es polarizar un LM317 a un V fijo y sumar un riple en la entrada y ver como se atenua en la salida. "
   ]
  },
  {
   "cell_type": "code",
   "execution_count": 4,
   "metadata": {},
   "outputs": [],
   "source": [
    "# Enviamos una senal y medimos en la entrada y la saluida del LM317\n",
    "# Reducimos el tiempo de medicion xq github nos tiro un warning de que ocupan 50Mb los archivos con las mediciones xq subimos laresolucion temporal\n",
    "data = AudioControl.playrec(AudioControl.Onda(440, long=0.5, amp=0.4),show=True) # Medimos con la figura 2.3 El Ch2 es la salida.\n",
    "np.savetxt(\"./Mediciones/LM317_1.csv\",data,delimiter=\",\")"
   ]
  },
  {
   "cell_type": "code",
   "execution_count": 8,
   "metadata": {},
   "outputs": [],
   "source": [
    "# Repetimos para menir amplitud\n",
    "data = AudioControl.playrec(AudioControl.Onda(440, long=0.3, amp=0.1),show=True) # Medimos con la figura 2.3 El Ch2 es la salida.\n",
    "np.savetxt(\"./Mediciones/LM317_2.csv\",data,delimiter=\",\")"
   ]
  },
  {
   "cell_type": "code",
   "execution_count": 11,
   "metadata": {},
   "outputs": [],
   "source": [
    "# Ahora cambiamos la frecuencia\n",
    "data = AudioControl.playrec(AudioControl.Onda(4400, long=0.3, amp=0.1),show=True) # Medimos con la figura 2.3 El Ch2 es la salida.\n",
    "np.savetxt(\"./Mediciones/LM317_3.csv\",data,delimiter=\",\")"
   ]
  },
  {
   "cell_type": "code",
   "execution_count": 14,
   "metadata": {},
   "outputs": [],
   "source": [
    "# Aumentamos la amplitud\n",
    "data = AudioControl.playrec(AudioControl.Onda(4400, long=0.3, amp=0.4),show=True) # Medimos con la figura 2.3 El Ch2 es la salida.\n",
    "np.savetxt(\"./Mediciones/LM317_4.csv\",data,delimiter=\",\")"
   ]
  },
  {
   "cell_type": "code",
   "execution_count": 15,
   "metadata": {},
   "outputs": [],
   "source": [
    "# A frecuencias mayores\n",
    "data = AudioControl.playrec(AudioControl.Onda(10000, long=0.3, amp=0.4),show=True) # Medimos con la figura 2.3 El Ch2 es la salida.\n",
    "np.savetxt(\"./Mediciones/LM317_5.csv\",data,delimiter=\",\")"
   ]
  },
  {
   "cell_type": "code",
   "execution_count": 16,
   "metadata": {},
   "outputs": [],
   "source": [
    "# A frecuencias mayores\n",
    "data = AudioControl.playrec(AudioControl.Onda(100, long=0.3, amp=0.4),show=True) # Medimos con la figura 2.3 El Ch2 es la salida.\n",
    "np.savetxt(\"./Mediciones/LM317_6.csv\",data,delimiter=\",\")"
   ]
  },
  {
   "cell_type": "code",
   "execution_count": 17,
   "metadata": {},
   "outputs": [],
   "source": [
    "# A frecuencias mayores\n",
    "data = AudioControl.playrec(AudioControl.Onda(300, long=0.3, amp=0.4),show=True) # Medimos con la figura 2.3 El Ch2 es la salida.\n",
    "np.savetxt(\"./Mediciones/LM317_7.csv\",data,delimiter=\",\")"
   ]
  },
  {
   "cell_type": "code",
   "execution_count": 18,
   "metadata": {},
   "outputs": [],
   "source": [
    "# A frecuencias mayores\n",
    "data = AudioControl.playrec(AudioControl.Onda(1000, long=0.3, amp=0.4),show=True) # Medimos con la figura 2.3 El Ch2 es la salida.\n",
    "np.savetxt(\"./Mediciones/LM317_8.csv\",data,delimiter=\",\")"
   ]
  },
  {
   "cell_type": "code",
   "execution_count": null,
   "metadata": {},
   "outputs": [],
   "source": []
  }
 ],
 "metadata": {
  "kernelspec": {
   "display_name": "Python 3",
   "language": "python",
   "name": "python3"
  },
  "language_info": {
   "codemirror_mode": {
    "name": "ipython",
    "version": 3
   },
   "file_extension": ".py",
   "mimetype": "text/x-python",
   "name": "python",
   "nbconvert_exporter": "python",
   "pygments_lexer": "ipython3",
   "version": "3.6.6"
  }
 },
 "nbformat": 4,
 "nbformat_minor": 2
}
