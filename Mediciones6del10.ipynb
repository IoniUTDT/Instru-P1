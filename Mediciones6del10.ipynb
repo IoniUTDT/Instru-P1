{
 "cells": [
  {
   "cell_type": "code",
   "execution_count": 1,
   "metadata": {},
   "outputs": [],
   "source": [
    "# importamos todo lo necesario\n",
    "%load_ext autoreload\n",
    "%autoreload 2\n",
    "%matplotlib qt\n",
    "import AudioControl\n",
    "import numpy as np"
   ]
  },
  {
   "cell_type": "code",
   "execution_count": 4,
   "metadata": {},
   "outputs": [
    {
     "name": "stdout",
     "output_type": "stream",
     "text": [
      "Tendría que haber escuchado 1 segundo de audio en cada canal\n"
     ]
    }
   ],
   "source": [
    "AudioControl.testOutput()"
   ]
  },
  {
   "cell_type": "code",
   "execution_count": 7,
   "metadata": {},
   "outputs": [],
   "source": [
    "data = AudioControl.playrec(AudioControl.Onda(440,long=10),show=True)\n",
    "# Anda"
   ]
  },
  {
   "cell_type": "code",
   "execution_count": 20,
   "metadata": {},
   "outputs": [],
   "source": [
    "data = AudioControl.playrec(AudioControl.Onda(440),show=True) # Medimos con la figura 2.1\n",
    "# Despues de varios errores de conexiones da bien!"
   ]
  },
  {
   "cell_type": "code",
   "execution_count": 21,
   "metadata": {},
   "outputs": [],
   "source": [
    "np.savetxt(\"./Mediciones/D2Diodo1.csv\",data,delimiter=\",\")"
   ]
  },
  {
   "cell_type": "code",
   "execution_count": 22,
   "metadata": {},
   "outputs": [],
   "source": [
    "# Vuelvo a realizar la medicion pero sin la conexion de la laptop a la fuente xq parece que eso en el labo le metia mucho ruido (aca es dificil de comproibar)\n",
    "data = AudioControl.playrec(AudioControl.Onda(440),show=True) # Medimos con la figura 2.1\n",
    "np.savetxt(\"./Mediciones/D2Diodo2.csv\",data,delimiter=\",\")"
   ]
  },
  {
   "cell_type": "code",
   "execution_count": null,
   "metadata": {},
   "outputs": [],
   "source": []
  }
 ],
 "metadata": {
  "kernelspec": {
   "display_name": "Python 3",
   "language": "python",
   "name": "python3"
  },
  "language_info": {
   "codemirror_mode": {
    "name": "ipython",
    "version": 3
   },
   "file_extension": ".py",
   "mimetype": "text/x-python",
   "name": "python",
   "nbconvert_exporter": "python",
   "pygments_lexer": "ipython3",
   "version": "3.6.6"
  }
 },
 "nbformat": 4,
 "nbformat_minor": 2
}
