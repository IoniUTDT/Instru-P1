{
 "cells": [
  {
   "cell_type": "markdown",
   "metadata": {},
   "source": [
    "# Instrumentacion y control: Practica 1 - Placa de audio #\n",
    "\n",
    "## Introducción ## \n",
    "En este notebook vamos a implementar y registrar mediciones utilizando una placa de sonido. \n",
    "\n",
    "Para eso utilizamos el paquete soundDevice y desarrollamos codigo propio de manera de adaptar las funcionalidades que ofrece dicho paquete. El objetivo es tener montado sobre las funcionalidades de python y soundDevice una API que permita usar en forma rapida e intuitiva la placa de sonido para interactuar con dispotivos electronicos, usando el speaker como salida y el mic como entrada.\n",
    "\n",
    "## Funcionalidades buscadas ##\n",
    "\n",
    "- Generar señales periodicas tipicas (sinusoidal, triangular, cuadrada, etc)\n",
    "- Registrar respuestas del sistema conectado frente a estimulos.\n",
    "- Testear y autocaracterizar el sistema de la placa de sonido (ya que puede cambiar de computadora en computadora) \n",
    "- Conocer desfazaje entre estimulo enviado y respuesta detectada. \n",
    "\n",
    "## Materiales y Diseño experimental basico ## \n",
    "\n",
    "Para hacer funcionar el sistema se necesita una computadora o dispositivo que cuente con una salida de audio y una entrada fisicamente independiente de microfono. Ademas se necesita dos conectores Jack Mini Plug de 3.5mm (o la que corresponda al hardware donde se ejecute el codigo) stereo que terminen en cables sueltos. En nuestro caso para realizar todas las prueba experimentales conectamos dicho terminales a un protoboard. \n",
    "\n",
    "![setup inicial](Files/Imagenes/Setup1.jpeg)\n",
    "![setup inicial](Files/Imagenes/Setup2.jpeg)"
   ]
  },
  {
   "cell_type": "markdown",
   "metadata": {},
   "source": [
    "## Desarrollo de sofware ##\n",
    "\n",
    "El codigo desarrollado esta incluido en el archivo AudioControl.py en forma de funciones de manera tal que se pueda importar el archivo y utilizarlas en forma directa. \n",
    "Describimos brevemente las funciones utiles:\n",
    "\n"
   ]
  },
  {
   "cell_type": "code",
   "execution_count": null,
   "metadata": {},
   "outputs": [],
   "source": []
  }
 ],
 "metadata": {
  "kernelspec": {
   "display_name": "Python [conda env:Instru]",
   "language": "python",
   "name": "conda-env-Instru-py"
  },
  "language_info": {
   "codemirror_mode": {
    "name": "ipython",
    "version": 3
   },
   "file_extension": ".py",
   "mimetype": "text/x-python",
   "name": "python",
   "nbconvert_exporter": "python",
   "pygments_lexer": "ipython3",
   "version": "3.7.0"
  }
 },
 "nbformat": 4,
 "nbformat_minor": 2
}
